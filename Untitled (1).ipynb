{
 "cells": [
  {
   "cell_type": "markdown",
   "id": "74ca8205",
   "metadata": {},
   "source": [
    "Insertion Sort Algo--> Here Is the algorithm for this code\n",
    "\n",
    "procedure insertionSort(A: list of sortable items)\n",
    "   n = length(A)\n",
    "   for i = 1 to n - 1 do\n",
    "       j = i\n",
    "       while j > 0 and A[j-1] > A[j] do\n",
    "           swap(A[j], A[j-1])\n",
    "           j = j - 1\n",
    "       end while\n",
    "   end for\n",
    "end procedure-\n",
    "# Comment-- \n",
    "Here we Have a number [12, 11, 13, 5, 6] in this number we should check which number is greater \n",
    "12 >11 so 11 will come first and after that 11 <13>12 so it will arranged in 11,12,13 after that 5 <11,12,13 so it will be come first acccording to our algorithm then it will check for 6 and the while loop exit at cooming 6 becozz there is none of element after 6. so our out put will come [5,6,11,12,13]. so our while loop check our list until the last digit .So this is the approach of my algo and code...... \n"
   ]
  },
  {
   "cell_type": "code",
   "execution_count": 1,
   "id": "7d3d5618",
   "metadata": {},
   "outputs": [
    {
     "name": "stdout",
     "output_type": "stream",
     "text": [
      " 5\n",
      " 6\n",
      " 11\n",
      " 12\n",
      " 13\n"
     ]
    }
   ],
   "source": [
    "def insertionSort(arr):\n",
    "\tfor i in range(1, len(arr)):\n",
    "\t\tkey = arr[i]\n",
    "\n",
    "\t\tj = i-1\n",
    "\t\twhile j >= 0 and key < arr[j] :\n",
    "\t\t\t\tarr[j + 1] = arr[j]\n",
    "\t\t\t\tj -= 1\n",
    "\t\tarr[j + 1] = key\n",
    "\n",
    "arr = [12, 11, 13, 5, 6]\n",
    "insertionSort(arr)\n",
    "for i in range(len(arr)):\n",
    "\tprint (\"% d\" % arr[i])"
   ]
  }
 ],
 "metadata": {
  "kernelspec": {
   "display_name": "Python 3 (ipykernel)",
   "language": "python",
   "name": "python3"
  },
  "language_info": {
   "codemirror_mode": {
    "name": "ipython",
    "version": 3
   },
   "file_extension": ".py",
   "mimetype": "text/x-python",
   "name": "python",
   "nbconvert_exporter": "python",
   "pygments_lexer": "ipython3",
   "version": "3.11.2"
  }
 },
 "nbformat": 4,
 "nbformat_minor": 5
}
