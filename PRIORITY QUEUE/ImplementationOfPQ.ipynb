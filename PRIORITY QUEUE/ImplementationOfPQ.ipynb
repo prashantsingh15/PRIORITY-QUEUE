{
 "cells": [
  {
   "attachments": {},
   "cell_type": "markdown",
   "metadata": {},
   "source": [
    "IMPLEMENTING OF PRIORITY QUEUE\n"
   ]
  },
  {
   "cell_type": "code",
   "execution_count": 1,
   "metadata": {},
   "outputs": [],
   "source": [
    "class PriorityQueueNode:\n",
    "    def __init__(self,value,priority):\n",
    "        self.value=value\n",
    "        self.priority=priority\n",
    "class PriorityQueue:\n",
    "    def __init__(self):\n",
    "        self.pq=[]\n",
    "        \n",
    "    def getSize(self):\n",
    "        return len(self.pq)\n",
    "    \n",
    "    def isEmpty(self):\n",
    "        return self.getSize()==0\n",
    "        \n",
    "    def getMin():\n",
    "        if self.isEmpty() is True:\n",
    "            return None\n",
    "        return self.pq[0].value\n",
    "    \n",
    "    def __percolateUp(self):\n",
    "        childIndex=self.getSize()-1\n",
    "        while childIndex>0:\n",
    "            parentIndex=(childIndex-1)//2\n",
    "            if self.pq[childIndex].priority<self.pq[parentIndex].priority:\n",
    "                self.pq[childIndex],self.pq[parentIndex]=self.pq[parentIndex],self.pq[childIndex]\n",
    "                childIndex=parentIndex\n",
    "            else:\n",
    "                break\n",
    "        \n",
    "        \n",
    "    \n",
    "    def insert(self,value,priority):\n",
    "        pqNode=PriorityQueueNode(value,priority)\n",
    "        self.pq.append(pqNode)\n",
    "        self.__percolateUp()\n",
    "        \n",
    "    def __percolateDown(self):\n",
    "        \n",
    "        parentIndex=0\n",
    "        leftChildIndex=2*parentIndex+1\n",
    "        rightChildIndex=2*parentIndex+2\n",
    "        \n",
    "        while leftChilIndex<self.getSize():\n",
    "            minIndex=parentIndex\n",
    "            if self.pq[minIndex].priority>self.pq[leftChildIndex].priority:\n",
    "                minIndex=leftChildIndex\n",
    "                \n",
    "            if rightChildIndex<self.getSize() and self.pq[minIndex].priority>self.pq[rightChildIndex].priority:\n",
    "                minIndex=rightChildIndex\n",
    "                \n",
    "            if minIndex==parentIndex:\n",
    "                break\n",
    "            self.pq[parentIndex],self.pq[minIndex]=self.pq[minIndex],self.pq[parentIndex]\n",
    "            parentIndex=minIndex\n",
    "            leftChildIndex=2*parentIndex+1\n",
    "            rightChildIndex=2*parentIndex+2\n",
    "    def removeMin(self):\n",
    "        if self.isEmpty():\n",
    "            return None\n",
    "        ele=self.pq[0].value\n",
    "        self.pq[0]=self.pq[self.getSize()-1]\n",
    "        self.pq.pop()\n",
    "        self.__percolateDown()\n",
    "        return ele\n"
   ]
  }
 ],
 "metadata": {
  "kernelspec": {
   "display_name": "base",
   "language": "python",
   "name": "python3"
  },
  "language_info": {
   "codemirror_mode": {
    "name": "ipython",
    "version": 3
   },
   "file_extension": ".py",
   "mimetype": "text/x-python",
   "name": "python",
   "nbconvert_exporter": "python",
   "pygments_lexer": "ipython3",
   "version": "3.9.13 (main, Aug 25 2022, 23:51:50) [MSC v.1916 64 bit (AMD64)]"
  },
  "orig_nbformat": 4,
  "vscode": {
   "interpreter": {
    "hash": "19e3ed3879c13a0a3709fc77aecbc5c79d8539dfda6d4462a1c416bc4ea67350"
   }
  }
 },
 "nbformat": 4,
 "nbformat_minor": 2
}
