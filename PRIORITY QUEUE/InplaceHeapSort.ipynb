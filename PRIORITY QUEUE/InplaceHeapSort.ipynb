{
 "cells": [
  {
   "cell_type": "code",
   "execution_count": null,
   "metadata": {},
   "outputs": [],
   "source": [
    "def down_heapify(arr,i,n):\n",
    "    parentIndex = i\n",
    "    leftChildIndex = 2*parentIndex + 1\n",
    "    rightChildIndex = 2*parentIndex + 2\n",
    "\n",
    "    while leftChildIndex < n:\n",
    "        minIndex = parentIndex\n",
    "        if arr[minIndex] > arr[leftChildIndex]:\n",
    "            minIndex = leftChildIndex\n",
    "\n",
    "        if rightChildIndex <n and arr[minIndex]>arr[rightChildIndex]:\n",
    "            minIndex = rightChildIndex\n",
    "\n",
    "        if minIndex == parentIndex:\n",
    "            return \n",
    "\n",
    "        arr[minIndex],arr[parentIndex] = arr[parentIndex],arr[minIndex]\n",
    "        parentIndex = minIndex\n",
    "        leftChildIndex = 2*parentIndex + 1\n",
    "        rightChildIndex = 2*parentIndex + 2\n",
    "\n",
    "    return \n",
    "\n",
    "def heapSort(arr):\n",
    "    # Build the heap \n",
    "    n = len(arr)\n",
    "    for i in range(n//2,-1,-1):\n",
    "        down_heapify(arr,i,n)\n",
    "\n",
    "    for i in range(n-1,0,-1):\n",
    "        arr[0], arr[i] = arr[i],arr[0]\n",
    "        down_heapify(arr, 0 , i)\n",
    "\n",
    "    return \n",
    "\n",
    "arr = [int(ele) for ele in input().split()]\n",
    "heapSort(arr)\n",
    "for ele in arr[::-1]:\n",
    "    print(ele, end=\" \")\n",
    "    "
   ]
  }
 ],
 "metadata": {
  "kernelspec": {
   "display_name": "base",
   "language": "python",
   "name": "python3"
  },
  "language_info": {
   "name": "python",
   "version": "3.9.13 (main, Aug 25 2022, 23:51:50) [MSC v.1916 64 bit (AMD64)]"
  },
  "orig_nbformat": 4,
  "vscode": {
   "interpreter": {
    "hash": "19e3ed3879c13a0a3709fc77aecbc5c79d8539dfda6d4462a1c416bc4ea67350"
   }
  }
 },
 "nbformat": 4,
 "nbformat_minor": 2
}
